{
 "cells": [
  {
   "cell_type": "code",
   "execution_count": 1,
   "metadata": {},
   "outputs": [
    {
     "name": "stdout",
     "output_type": "stream",
     "text": [
      "feature_names: ['sepal length (cm)', 'sepal width (cm)', 'petal length (cm)', 'petal width (cm)']\n",
      "meturement: [ 5.1  3.5  1.4  0.2]\n"
     ]
    },
    {
     "data": {
      "text/plain": [
       "['data', 'target', 'target_names', 'DESCR', 'feature_names']"
      ]
     },
     "execution_count": 1,
     "metadata": {},
     "output_type": "execute_result"
    }
   ],
   "source": [
    "from sklearn.datasets import load_iris\n",
    "data = load_iris()\n",
    "print('feature_names:',data.feature_names)\n",
    "print('meturement:',data.data[0])\n",
    "\n",
    "list(data)"
   ]
  },
  {
   "cell_type": "code",
   "execution_count": 2,
   "metadata": {},
   "outputs": [
    {
     "name": "stdout",
     "output_type": "stream",
     "text": [
      "150\n",
      "[0 0 0 0 0 0 0 0 0 0 0 0 0 0 0 0 0 0 0 0 0 0 0 0 0 0 0 0 0 0 0 0 0 0 0 0 0\n",
      " 0 0 0 0 0 0 0 0 0 0 0 0 0 1 1 1 1 1 1 1 1 1 1 1 1 1 1 1 1 1 1 1 1 1 1 1 1\n",
      " 1 1 1 1 1 1 1 1 1 1 1 1 1 1 1 1 1 1 1 1 1 1 1 1 1 1 2 2 2 2 2 2 2 2 2 2 2\n",
      " 2 2 2 2 2 2 2 2 2 2 2 2 2 2 2 2 2 2 2 2 2 2 2 2 2 2 2 2 2 2 2 2 2 2 2 2 2\n",
      " 2 2]\n"
     ]
    },
    {
     "data": {
      "text/plain": [
       "['setosa', 'versicolor', 'virginica']"
      ]
     },
     "execution_count": 2,
     "metadata": {},
     "output_type": "execute_result"
    }
   ],
   "source": [
    "# list the label\n",
    "print(len(data.target))\n",
    "print(data.target)\n",
    "list(data.target_names)"
   ]
  },
  {
   "cell_type": "code",
   "execution_count": 3,
   "metadata": {},
   "outputs": [
    {
     "name": "stdout",
     "output_type": "stream",
     "text": [
      "example 0: label 0, feature [ 5.1  3.5  1.4  0.2]\n",
      "example 1: label 0, feature [ 4.9  3.   1.4  0.2]\n",
      "example 2: label 0, feature [ 4.7  3.2  1.3  0.2]\n",
      "example 3: label 0, feature [ 4.6  3.1  1.5  0.2]\n",
      "example 4: label 0, feature [ 5.   3.6  1.4  0.2]\n",
      "example 5: label 0, feature [ 5.4  3.9  1.7  0.4]\n",
      "example 6: label 0, feature [ 4.6  3.4  1.4  0.3]\n",
      "example 7: label 0, feature [ 5.   3.4  1.5  0.2]\n",
      "example 8: label 0, feature [ 4.4  2.9  1.4  0.2]\n",
      "example 9: label 0, feature [ 4.9  3.1  1.5  0.1]\n",
      "example 10: label 0, feature [ 5.4  3.7  1.5  0.2]\n",
      "example 11: label 0, feature [ 4.8  3.4  1.6  0.2]\n",
      "example 12: label 0, feature [ 4.8  3.   1.4  0.1]\n",
      "example 13: label 0, feature [ 4.3  3.   1.1  0.1]\n",
      "example 14: label 0, feature [ 5.8  4.   1.2  0.2]\n",
      "example 15: label 0, feature [ 5.7  4.4  1.5  0.4]\n",
      "example 16: label 0, feature [ 5.4  3.9  1.3  0.4]\n",
      "example 17: label 0, feature [ 5.1  3.5  1.4  0.3]\n",
      "example 18: label 0, feature [ 5.7  3.8  1.7  0.3]\n",
      "example 19: label 0, feature [ 5.1  3.8  1.5  0.3]\n",
      "example 20: label 0, feature [ 5.4  3.4  1.7  0.2]\n",
      "example 21: label 0, feature [ 5.1  3.7  1.5  0.4]\n",
      "example 22: label 0, feature [ 4.6  3.6  1.   0.2]\n",
      "example 23: label 0, feature [ 5.1  3.3  1.7  0.5]\n",
      "example 24: label 0, feature [ 4.8  3.4  1.9  0.2]\n",
      "example 25: label 0, feature [ 5.   3.   1.6  0.2]\n",
      "example 26: label 0, feature [ 5.   3.4  1.6  0.4]\n",
      "example 27: label 0, feature [ 5.2  3.5  1.5  0.2]\n",
      "example 28: label 0, feature [ 5.2  3.4  1.4  0.2]\n",
      "example 29: label 0, feature [ 4.7  3.2  1.6  0.2]\n",
      "example 30: label 0, feature [ 4.8  3.1  1.6  0.2]\n",
      "example 31: label 0, feature [ 5.4  3.4  1.5  0.4]\n",
      "example 32: label 0, feature [ 5.2  4.1  1.5  0.1]\n",
      "example 33: label 0, feature [ 5.5  4.2  1.4  0.2]\n",
      "example 34: label 0, feature [ 4.9  3.1  1.5  0.1]\n",
      "example 35: label 0, feature [ 5.   3.2  1.2  0.2]\n",
      "example 36: label 0, feature [ 5.5  3.5  1.3  0.2]\n",
      "example 37: label 0, feature [ 4.9  3.1  1.5  0.1]\n",
      "example 38: label 0, feature [ 4.4  3.   1.3  0.2]\n",
      "example 39: label 0, feature [ 5.1  3.4  1.5  0.2]\n",
      "example 40: label 0, feature [ 5.   3.5  1.3  0.3]\n",
      "example 41: label 0, feature [ 4.5  2.3  1.3  0.3]\n",
      "example 42: label 0, feature [ 4.4  3.2  1.3  0.2]\n",
      "example 43: label 0, feature [ 5.   3.5  1.6  0.6]\n",
      "example 44: label 0, feature [ 5.1  3.8  1.9  0.4]\n",
      "example 45: label 0, feature [ 4.8  3.   1.4  0.3]\n",
      "example 46: label 0, feature [ 5.1  3.8  1.6  0.2]\n",
      "example 47: label 0, feature [ 4.6  3.2  1.4  0.2]\n",
      "example 48: label 0, feature [ 5.3  3.7  1.5  0.2]\n",
      "example 49: label 0, feature [ 5.   3.3  1.4  0.2]\n",
      "example 50: label 1, feature [ 7.   3.2  4.7  1.4]\n",
      "example 51: label 1, feature [ 6.4  3.2  4.5  1.5]\n",
      "example 52: label 1, feature [ 6.9  3.1  4.9  1.5]\n",
      "example 53: label 1, feature [ 5.5  2.3  4.   1.3]\n",
      "example 54: label 1, feature [ 6.5  2.8  4.6  1.5]\n",
      "example 55: label 1, feature [ 5.7  2.8  4.5  1.3]\n",
      "example 56: label 1, feature [ 6.3  3.3  4.7  1.6]\n",
      "example 57: label 1, feature [ 4.9  2.4  3.3  1. ]\n",
      "example 58: label 1, feature [ 6.6  2.9  4.6  1.3]\n",
      "example 59: label 1, feature [ 5.2  2.7  3.9  1.4]\n",
      "example 60: label 1, feature [ 5.   2.   3.5  1. ]\n",
      "example 61: label 1, feature [ 5.9  3.   4.2  1.5]\n",
      "example 62: label 1, feature [ 6.   2.2  4.   1. ]\n",
      "example 63: label 1, feature [ 6.1  2.9  4.7  1.4]\n",
      "example 64: label 1, feature [ 5.6  2.9  3.6  1.3]\n",
      "example 65: label 1, feature [ 6.7  3.1  4.4  1.4]\n",
      "example 66: label 1, feature [ 5.6  3.   4.5  1.5]\n",
      "example 67: label 1, feature [ 5.8  2.7  4.1  1. ]\n",
      "example 68: label 1, feature [ 6.2  2.2  4.5  1.5]\n",
      "example 69: label 1, feature [ 5.6  2.5  3.9  1.1]\n",
      "example 70: label 1, feature [ 5.9  3.2  4.8  1.8]\n",
      "example 71: label 1, feature [ 6.1  2.8  4.   1.3]\n",
      "example 72: label 1, feature [ 6.3  2.5  4.9  1.5]\n",
      "example 73: label 1, feature [ 6.1  2.8  4.7  1.2]\n",
      "example 74: label 1, feature [ 6.4  2.9  4.3  1.3]\n",
      "example 75: label 1, feature [ 6.6  3.   4.4  1.4]\n",
      "example 76: label 1, feature [ 6.8  2.8  4.8  1.4]\n",
      "example 77: label 1, feature [ 6.7  3.   5.   1.7]\n",
      "example 78: label 1, feature [ 6.   2.9  4.5  1.5]\n",
      "example 79: label 1, feature [ 5.7  2.6  3.5  1. ]\n",
      "example 80: label 1, feature [ 5.5  2.4  3.8  1.1]\n",
      "example 81: label 1, feature [ 5.5  2.4  3.7  1. ]\n",
      "example 82: label 1, feature [ 5.8  2.7  3.9  1.2]\n",
      "example 83: label 1, feature [ 6.   2.7  5.1  1.6]\n",
      "example 84: label 1, feature [ 5.4  3.   4.5  1.5]\n",
      "example 85: label 1, feature [ 6.   3.4  4.5  1.6]\n",
      "example 86: label 1, feature [ 6.7  3.1  4.7  1.5]\n",
      "example 87: label 1, feature [ 6.3  2.3  4.4  1.3]\n",
      "example 88: label 1, feature [ 5.6  3.   4.1  1.3]\n",
      "example 89: label 1, feature [ 5.5  2.5  4.   1.3]\n",
      "example 90: label 1, feature [ 5.5  2.6  4.4  1.2]\n",
      "example 91: label 1, feature [ 6.1  3.   4.6  1.4]\n",
      "example 92: label 1, feature [ 5.8  2.6  4.   1.2]\n",
      "example 93: label 1, feature [ 5.   2.3  3.3  1. ]\n",
      "example 94: label 1, feature [ 5.6  2.7  4.2  1.3]\n",
      "example 95: label 1, feature [ 5.7  3.   4.2  1.2]\n",
      "example 96: label 1, feature [ 5.7  2.9  4.2  1.3]\n",
      "example 97: label 1, feature [ 6.2  2.9  4.3  1.3]\n",
      "example 98: label 1, feature [ 5.1  2.5  3.   1.1]\n",
      "example 99: label 1, feature [ 5.7  2.8  4.1  1.3]\n",
      "example 100: label 2, feature [ 6.3  3.3  6.   2.5]\n",
      "example 101: label 2, feature [ 5.8  2.7  5.1  1.9]\n",
      "example 102: label 2, feature [ 7.1  3.   5.9  2.1]\n",
      "example 103: label 2, feature [ 6.3  2.9  5.6  1.8]\n",
      "example 104: label 2, feature [ 6.5  3.   5.8  2.2]\n",
      "example 105: label 2, feature [ 7.6  3.   6.6  2.1]\n",
      "example 106: label 2, feature [ 4.9  2.5  4.5  1.7]\n",
      "example 107: label 2, feature [ 7.3  2.9  6.3  1.8]\n",
      "example 108: label 2, feature [ 6.7  2.5  5.8  1.8]\n",
      "example 109: label 2, feature [ 7.2  3.6  6.1  2.5]\n",
      "example 110: label 2, feature [ 6.5  3.2  5.1  2. ]\n",
      "example 111: label 2, feature [ 6.4  2.7  5.3  1.9]\n",
      "example 112: label 2, feature [ 6.8  3.   5.5  2.1]\n",
      "example 113: label 2, feature [ 5.7  2.5  5.   2. ]\n",
      "example 114: label 2, feature [ 5.8  2.8  5.1  2.4]\n",
      "example 115: label 2, feature [ 6.4  3.2  5.3  2.3]\n",
      "example 116: label 2, feature [ 6.5  3.   5.5  1.8]\n",
      "example 117: label 2, feature [ 7.7  3.8  6.7  2.2]\n",
      "example 118: label 2, feature [ 7.7  2.6  6.9  2.3]\n",
      "example 119: label 2, feature [ 6.   2.2  5.   1.5]\n",
      "example 120: label 2, feature [ 6.9  3.2  5.7  2.3]\n",
      "example 121: label 2, feature [ 5.6  2.8  4.9  2. ]\n",
      "example 122: label 2, feature [ 7.7  2.8  6.7  2. ]\n",
      "example 123: label 2, feature [ 6.3  2.7  4.9  1.8]\n",
      "example 124: label 2, feature [ 6.7  3.3  5.7  2.1]\n",
      "example 125: label 2, feature [ 7.2  3.2  6.   1.8]\n",
      "example 126: label 2, feature [ 6.2  2.8  4.8  1.8]\n",
      "example 127: label 2, feature [ 6.1  3.   4.9  1.8]\n",
      "example 128: label 2, feature [ 6.4  2.8  5.6  2.1]\n",
      "example 129: label 2, feature [ 7.2  3.   5.8  1.6]\n",
      "example 130: label 2, feature [ 7.4  2.8  6.1  1.9]\n",
      "example 131: label 2, feature [ 7.9  3.8  6.4  2. ]\n",
      "example 132: label 2, feature [ 6.4  2.8  5.6  2.2]\n",
      "example 133: label 2, feature [ 6.3  2.8  5.1  1.5]\n",
      "example 134: label 2, feature [ 6.1  2.6  5.6  1.4]\n",
      "example 135: label 2, feature [ 7.7  3.   6.1  2.3]\n",
      "example 136: label 2, feature [ 6.3  3.4  5.6  2.4]\n",
      "example 137: label 2, feature [ 6.4  3.1  5.5  1.8]\n",
      "example 138: label 2, feature [ 6.   3.   4.8  1.8]\n",
      "example 139: label 2, feature [ 6.9  3.1  5.4  2.1]\n",
      "example 140: label 2, feature [ 6.7  3.1  5.6  2.4]\n",
      "example 141: label 2, feature [ 6.9  3.1  5.1  2.3]\n",
      "example 142: label 2, feature [ 5.8  2.7  5.1  1.9]\n",
      "example 143: label 2, feature [ 6.8  3.2  5.9  2.3]\n",
      "example 144: label 2, feature [ 6.7  3.3  5.7  2.5]\n",
      "example 145: label 2, feature [ 6.7  3.   5.2  2.3]\n",
      "example 146: label 2, feature [ 6.3  2.5  5.   1.9]\n",
      "example 147: label 2, feature [ 6.5  3.   5.2  2. ]\n",
      "example 148: label 2, feature [ 6.2  3.4  5.4  2.3]\n",
      "example 149: label 2, feature [ 5.9  3.   5.1  1.8]\n"
     ]
    }
   ],
   "source": [
    "\n",
    "for i in range(len(data.target)):\n",
    "    print(\"example %d: label %s, feature %s\" % (i,data.target[i],data.data[i]))"
   ]
  },
  {
   "cell_type": "code",
   "execution_count": 4,
   "metadata": {
    "collapsed": true
   },
   "outputs": [],
   "source": [
    "import numpy as np\n",
    "test_idx=[0,50,100]\n",
    "# creating training data set..(deleting sentosa data from dataset)\n",
    "train_target = np.delete(data.target,test_idx)\n",
    "train_data = np.delete(data.data,test_idx,axis=0)"
   ]
  },
  {
   "cell_type": "code",
   "execution_count": 5,
   "metadata": {},
   "outputs": [
    {
     "name": "stdout",
     "output_type": "stream",
     "text": [
      "[0 1 2]\n",
      "[[ 5.1  3.5  1.4  0.2]\n",
      " [ 7.   3.2  4.7  1.4]\n",
      " [ 6.3  3.3  6.   2.5]]\n"
     ]
    }
   ],
   "source": [
    "# creating test dataset\n",
    "\n",
    "test_target = data.target[test_idx]\n",
    "test_data = data.data[test_idx]\n",
    "# our test target and data is sentosa data\n",
    "print(test_target)\n",
    "print(test_data)"
   ]
  },
  {
   "cell_type": "code",
   "execution_count": 6,
   "metadata": {},
   "outputs": [
    {
     "data": {
      "text/plain": [
       "DecisionTreeClassifier(class_weight=None, criterion='gini', max_depth=None,\n",
       "            max_features=None, max_leaf_nodes=None,\n",
       "            min_impurity_decrease=0.0, min_impurity_split=None,\n",
       "            min_samples_leaf=1, min_samples_split=2,\n",
       "            min_weight_fraction_leaf=0.0, presort=False, random_state=None,\n",
       "            splitter='best')"
      ]
     },
     "execution_count": 6,
     "metadata": {},
     "output_type": "execute_result"
    }
   ],
   "source": [
    "from sklearn import tree\n",
    "\n",
    "clf = tree.DecisionTreeClassifier()\n",
    "clf.fit(train_data,train_target)"
   ]
  },
  {
   "cell_type": "code",
   "execution_count": 7,
   "metadata": {},
   "outputs": [
    {
     "data": {
      "text/plain": [
       "array([0, 1, 2])"
      ]
     },
     "execution_count": 7,
     "metadata": {},
     "output_type": "execute_result"
    }
   ],
   "source": [
    "clf.predict(test_data)"
   ]
  },
  {
   "cell_type": "code",
   "execution_count": 14,
   "metadata": {},
   "outputs": [
    {
     "name": "stdout",
     "output_type": "stream",
     "text": [
      "Requirement already satisfied: graphviz in /usr/local/lib/python3.6/site-packages (0.9)\r\n"
     ]
    }
   ],
   "source": [
    "!pip3 install graphviz"
   ]
  },
  {
   "cell_type": "code",
   "execution_count": 12,
   "metadata": {},
   "outputs": [
    {
     "ename": "ModuleNotFoundError",
     "evalue": "No module named 'graphviz'",
     "output_type": "error",
     "traceback": [
      "\u001b[0;31m---------------------------------------------------------------------------\u001b[0m",
      "\u001b[0;31mModuleNotFoundError\u001b[0m                       Traceback (most recent call last)",
      "\u001b[0;32m<ipython-input-12-0e78fd6401bd>\u001b[0m in \u001b[0;36m<module>\u001b[0;34m()\u001b[0m\n\u001b[0;32m----> 1\u001b[0;31m \u001b[0;32mimport\u001b[0m \u001b[0mgraphviz\u001b[0m\u001b[0;34m\u001b[0m\u001b[0m\n\u001b[0m\u001b[1;32m      2\u001b[0m \u001b[0mdot_data\u001b[0m \u001b[0;34m=\u001b[0m \u001b[0mtree\u001b[0m\u001b[0;34m.\u001b[0m\u001b[0mexport_graphviz\u001b[0m\u001b[0;34m(\u001b[0m\u001b[0mclf\u001b[0m\u001b[0;34m,\u001b[0m \u001b[0mout_file\u001b[0m\u001b[0;34m=\u001b[0m\u001b[0;32mNone\u001b[0m\u001b[0;34m)\u001b[0m\u001b[0;34m\u001b[0m\u001b[0m\n\u001b[1;32m      3\u001b[0m \u001b[0mgraph\u001b[0m \u001b[0;34m=\u001b[0m \u001b[0mgraphviz\u001b[0m\u001b[0;34m.\u001b[0m\u001b[0mSource\u001b[0m\u001b[0;34m(\u001b[0m\u001b[0mdot_data\u001b[0m\u001b[0;34m)\u001b[0m\u001b[0;34m\u001b[0m\u001b[0m\n\u001b[1;32m      4\u001b[0m \u001b[0mgraph\u001b[0m\u001b[0;34m.\u001b[0m\u001b[0mrender\u001b[0m\u001b[0;34m(\u001b[0m\u001b[0;34m\"iris\"\u001b[0m\u001b[0;34m)\u001b[0m\u001b[0;34m\u001b[0m\u001b[0m\n",
      "\u001b[0;31mModuleNotFoundError\u001b[0m: No module named 'graphviz'"
     ]
    }
   ],
   "source": [
    "import graphviz \n",
    "dot_data = tree.export_graphviz(clf, out_file=None) \n",
    "graph = graphviz.Source(dot_data) \n",
    "graph.render(\"iris\") \n"
   ]
  },
  {
   "cell_type": "code",
   "execution_count": null,
   "metadata": {
    "collapsed": true
   },
   "outputs": [],
   "source": []
  }
 ],
 "metadata": {
  "kernelspec": {
   "display_name": "Python 3",
   "language": "python",
   "name": "python3"
  },
  "language_info": {
   "codemirror_mode": {
    "name": "ipython",
    "version": 3
   },
   "file_extension": ".py",
   "mimetype": "text/x-python",
   "name": "python",
   "nbconvert_exporter": "python",
   "pygments_lexer": "ipython3",
   "version": "3.6.2"
  }
 },
 "nbformat": 4,
 "nbformat_minor": 2
}
